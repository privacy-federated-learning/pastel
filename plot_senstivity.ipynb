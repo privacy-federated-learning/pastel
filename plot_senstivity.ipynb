{
 "cells": [
  {
   "cell_type": "code",
   "execution_count": 29,
   "id": "b1f809ae",
   "metadata": {},
   "outputs": [],
   "source": []
  },
  {
   "cell_type": "code",
   "execution_count": 72,
   "id": "78aeb901",
   "metadata": {},
   "outputs": [],
   "source": [
    "import pandas as pd\n",
    "from torch import Tensor\n",
    "\n",
    "def test(x):\n",
    "    if type(x).__name__ == 'str':\n",
    "        return float(x[7:-1]) \n",
    "    else:\n",
    "        return x"
   ]
  },
  {
   "cell_type": "code",
   "execution_count": 83,
   "id": "f74ce0c7",
   "metadata": {},
   "outputs": [],
   "source": [
    "def get_mean(df, norm='fnorm'):\n",
    "    df['fnorm'] = df['fnorm'].apply(lambda x: test(x))\n",
    "    df['one_norm'] = df['one_norm'].apply(lambda x: test(x))\n",
    "    if norm == 'fnorm':\n",
    "        return df['fnorm'].mean()\n",
    "    else:\n",
    "        return df['one_norm'].mean()"
   ]
  },
  {
   "cell_type": "code",
   "execution_count": 103,
   "id": "db263bf2",
   "metadata": {},
   "outputs": [],
   "source": [
    "file_conf = [\n",
    "    {'file_name_member': 'forward_bn17_member.csv',\n",
    "     'file_name_non_member': 'forward_bn17_non_member.csv',\n",
    "    'layer_name': 'bn17'\n",
    "    },\n",
    "    {'file_name_member': 'forward_member.csv',\n",
    "     'file_name_non_member': 'forward_non_member.csv',\n",
    "    'layer_name': 'linear'\n",
    "    },\n",
    "    \n",
    "]"
   ]
  },
  {
   "cell_type": "code",
   "execution_count": 104,
   "id": "35bb052a",
   "metadata": {},
   "outputs": [],
   "source": [
    "sensitivity_list = []\n",
    "for layer in file_conf:\n",
    "    fnorm = abs(get_mean(pd.read_csv(layer['file_name_non_member']))- get_mean(pd.read_csv(layer['file_name_member'])))\n",
    "    one_norm = abs(get_mean(pd.read_csv(layer['file_name_member']),norm='one')- get_mean(pd.read_csv(layer['file_name_member']),norm='one'))\n",
    "    tmp = {'name': layer['layer_name'], 'fnorm':  fnorm, 'one_norm':one_norm}\n",
    "    sensitivity_list.append(tmp)\n",
    "\n",
    "sensitivity_df = pd.DataFrame(sensitivity_list)"
   ]
  },
  {
   "cell_type": "code",
   "execution_count": 105,
   "id": "43df780b",
   "metadata": {},
   "outputs": [
    {
     "data": {
      "text/html": [
       "<div>\n",
       "<style scoped>\n",
       "    .dataframe tbody tr th:only-of-type {\n",
       "        vertical-align: middle;\n",
       "    }\n",
       "\n",
       "    .dataframe tbody tr th {\n",
       "        vertical-align: top;\n",
       "    }\n",
       "\n",
       "    .dataframe thead th {\n",
       "        text-align: right;\n",
       "    }\n",
       "</style>\n",
       "<table border=\"1\" class=\"dataframe\">\n",
       "  <thead>\n",
       "    <tr style=\"text-align: right;\">\n",
       "      <th></th>\n",
       "      <th>name</th>\n",
       "      <th>fnorm</th>\n",
       "      <th>one_norm</th>\n",
       "    </tr>\n",
       "  </thead>\n",
       "  <tbody>\n",
       "    <tr>\n",
       "      <th>0</th>\n",
       "      <td>bn17</td>\n",
       "      <td>0.121007</td>\n",
       "      <td>0.0</td>\n",
       "    </tr>\n",
       "    <tr>\n",
       "      <th>1</th>\n",
       "      <td>linear</td>\n",
       "      <td>0.076159</td>\n",
       "      <td>0.0</td>\n",
       "    </tr>\n",
       "  </tbody>\n",
       "</table>\n",
       "</div>"
      ],
      "text/plain": [
       "     name     fnorm  one_norm\n",
       "0    bn17  0.121007       0.0\n",
       "1  linear  0.076159       0.0"
      ]
     },
     "execution_count": 105,
     "metadata": {},
     "output_type": "execute_result"
    }
   ],
   "source": [
    "sensitivity_df"
   ]
  },
  {
   "cell_type": "code",
   "execution_count": 108,
   "id": "ffd8fc14",
   "metadata": {},
   "outputs": [
    {
     "data": {
      "text/plain": [
       "<AxesSubplot:xlabel='name', ylabel='fnorm'>"
      ]
     },
     "execution_count": 108,
     "metadata": {},
     "output_type": "execute_result"
    },
    {
     "data": {
      "image/png": "[encoded data removed]",
      "text/plain": [
       "<Figure size 432x288 with 1 Axes>"
      ]
     },
     "metadata": {},
     "output_type": "display_data"
    }
   ],
   "source": [
    "import seaborn as sns\n",
    "\n",
    "\n",
    "sns.set_style('white')\n",
    "sns.set_context(\"paper\", font_scale = 2)\n",
    "\n",
    "\n",
    "# Plot the responses for different events and regions\n",
    "sns.lineplot(x=\"name\", y=\"fnorm\", markers=True, \n",
    "             data=sensitivity_df)"
   ]
  }
 ],
 "metadata": {
  "kernelspec": {
   "display_name": "Python 3 (ipykernel)",
   "language": "python",
   "name": "python3"
  },
  "language_info": {
   "codemirror_mode": {
    "name": "ipython",
    "version": 3
   },
   "file_extension": ".py",
   "mimetype": "text/x-python",
   "name": "python",
   "nbconvert_exporter": "python",
   "pygments_lexer": "ipython3",
   "version": "3.9.12"
  }
 },
 "nbformat": 4,
 "nbformat_minor": 5
}
