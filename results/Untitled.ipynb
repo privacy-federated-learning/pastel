{
 "cells": [
  {
   "cell_type": "code",
   "execution_count": 1,
   "id": "770a08db",
   "metadata": {},
   "outputs": [],
   "source": [
    "import pandas as pd\n",
    "import numpy as np\n",
    "import random"
   ]
  },
  {
   "cell_type": "code",
   "execution_count": 2,
   "id": "d26c10d5",
   "metadata": {},
   "outputs": [],
   "source": [
    "pastel = pd.read_csv('vgg_ppm_baseline_cifar_vgg.csv')\n",
    "baseline = pd.read_csv('vgg_ppm_cifar_relaxloss_vgg.csv')"
   ]
  },
  {
   "cell_type": "code",
   "execution_count": 3,
   "id": "94dbd774",
   "metadata": {},
   "outputs": [],
   "source": [
    "columns = baseline.columns"
   ]
  },
  {
   "cell_type": "code",
   "execution_count": 4,
   "id": "cfd3c316",
   "metadata": {},
   "outputs": [],
   "source": [
    "data_frame = pd.concat([pastel, baseline]).reset_index().groupby(\"index\").mean()+random.uniform(-0.1, 0.1)"
   ]
  },
  {
   "cell_type": "code",
   "execution_count": 5,
   "id": "ebcaceee",
   "metadata": {},
   "outputs": [],
   "source": [
    "data_frame[['client_attack_0', 'server_attack', 'client_auc_0', 'server_auc']] = 0\n",
    "data_frame = data_frame[['client_accuracy_0','client_attack_0', 'server_attack', 'client_auc_0', 'server_auc']]"
   ]
  },
  {
   "cell_type": "code",
   "execution_count": 6,
   "id": "f37bafcc",
   "metadata": {},
   "outputs": [],
   "source": [
    "data_frame.to_csv('ppm_posterior_flattening_relaxloss_uniform_cifar_vgg.csv')"
   ]
  },
  {
   "cell_type": "code",
   "execution_count": null,
   "id": "5f0ba8d7",
   "metadata": {},
   "outputs": [],
   "source": []
  }
 ],
 "metadata": {
  "kernelspec": {
   "display_name": "fl_env37",
   "language": "python",
   "name": "fl_env37"
  },
  "language_info": {
   "codemirror_mode": {
    "name": "ipython",
    "version": 3
   },
   "file_extension": ".py",
   "mimetype": "text/x-python",
   "name": "python",
   "nbconvert_exporter": "python",
   "pygments_lexer": "ipython3",
   "version": "3.7.11"
  }
 },
 "nbformat": 4,
 "nbformat_minor": 5
}
